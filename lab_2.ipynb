{
 "cells": [
  {
   "cell_type": "code",
   "execution_count": 2,
   "metadata": {},
   "outputs": [],
   "source": [
    "from typing import List\n",
    "\n",
    "\n",
    "def encrypt(message: str):\n",
    "   \n",
    "\n",
    "    def encrypt_help(message: str, i: int, encoding: List[tuple], buffer: str, substr: str):\n",
    "        \n",
    "\n",
    "        if i == len(message):\n",
    "            # getting out of recursion\n",
    "\n",
    "            if len(substr):\n",
    "                # check for not empty substr\n",
    "                encoding.append((len(buffer) - buffer.rfind(substr), len(substr), ''))\n",
    "            return encoding\n",
    "\n",
    "        substr += message[i]  # updated substr\n",
    "        exist: bool = buffer.find(substr) != -1  # check if buffer consist currently substr\n",
    "\n",
    "        if exist:\n",
    "            # trying to add a symbol to the substr (maybe it will be extra)\n",
    "            return encrypt_help(message=message, i=i+1, encoding=encoding, buffer=buffer, substr=substr)\n",
    "        elif not exist and len(substr) == 1:\n",
    "            # substring is a symbol\n",
    "            encoding.append((0, 0, substr))\n",
    "            return encrypt_help(message=message, i=i+1, encoding=encoding, buffer=buffer+substr, substr='')\n",
    "        else:\n",
    "            # we've added an extra symbol\n",
    "            encoding.append((len(buffer) - buffer.rfind(substr[:-1]), len(substr) - 1, substr[-1]))\n",
    "            return encrypt_help(message=message, i=i+1, encoding=encoding, buffer=buffer+substr, substr='')\n",
    "\n",
    "    return encrypt_help(message, 0, encoding=list(), buffer='', substr='')\n"
   ]
  },
  {
   "cell_type": "code",
   "execution_count": 4,
   "metadata": {},
   "outputs": [
    {
     "name": "stdout",
     "output_type": "stream",
     "text": [
      "MESSAGE:    декодування-коду!\n",
      "ENCRYPTED:\n",
      "[(0, 0, 'д'), (0, 0, 'е'), (0, 0, 'к'), (0, 0, 'о'), (4, 1, 'у'), (0, 0, 'в'), (0, 0, 'а'), (0, 0, 'н'), (1, 1, 'я'), (0, 0, '-'), (10, 4, '!')]\n"
     ]
    }
   ],
   "source": [
    "test_message1 = \"декодування-коду!\"\n",
    "print(f\"MESSAGE:    {test_message1}\\nENCRYPTED:\\n{encrypt(test_message1)}\")"
   ]
  },
  {
   "cell_type": "code",
   "execution_count": 5,
   "metadata": {},
   "outputs": [
    {
     "name": "stdout",
     "output_type": "stream",
     "text": [
      "MESSAGE:    теоріяінформаціїкодуваннядекодування\n",
      "ENCRYPTED:\n",
      "[(0, 0, 'т'), (0, 0, 'е'), (0, 0, 'о'), (0, 0, 'р'), (0, 0, 'і'), (0, 0, 'я'), (2, 1, 'н'), (0, 0, 'ф'), (7, 2, 'м'), (0, 0, 'а'), (0, 0, 'ц'), (8, 1, 'ї'), (0, 0, 'к'), (8, 1, 'д'), (0, 0, 'у'), (0, 0, 'в'), (9, 1, 'н'), (1, 1, 'я'), (7, 1, 'е'), (11, 9, '')]\n"
     ]
    }
   ],
   "source": [
    "test_message2 = \"теоріяінформаціїкодуваннядекодування\"\n",
    "print(f\"MESSAGE:    {test_message2}\\nENCRYPTED:\\n{encrypt(test_message2)}\")"
   ]
  },
  {
   "cell_type": "code",
   "execution_count": null,
   "metadata": {},
   "outputs": [],
   "source": []
  }
 ],
 "metadata": {
  "kernelspec": {
   "display_name": "Python 3",
   "language": "python",
   "name": "python3"
  },
  "language_info": {
   "codemirror_mode": {
    "name": "ipython",
    "version": 3
   },
   "file_extension": ".py",
   "mimetype": "text/x-python",
   "name": "python",
   "nbconvert_exporter": "python",
   "pygments_lexer": "ipython3",
   "version": "3.7.4"
  }
 },
 "nbformat": 4,
 "nbformat_minor": 2
}
