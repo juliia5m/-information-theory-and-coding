{
 "cells": [
  {
   "cell_type": "code",
   "execution_count": 77,
   "metadata": {},
   "outputs": [],
   "source": [
    "#-----------------------------------------------------------------------------------\n",
    "# Variant 17------------------------------------------------------------------------\n",
    "# Yuliia Marchuk--------------------------------------------------------------------\n",
    "import numpy as np\n",
    " "
   ]
  },
  {
   "cell_type": "code",
   "execution_count": 78,
   "metadata": {},
   "outputs": [],
   "source": [
    "#----------------------------------------------------------------------------------------\n",
    "# initial data that we have:\n",
    "# an alphabet, probabilities for every char or number in alphabet and channel matrix P(y|x)\n",
    "# alp = ['0', '1', '2', '3', '4', '5', '6', '7', '8', '9', 'A', 'B', 'C', 'D', 'E', 'F']\n",
    "# for solving this lab, used formulas from class and examples in lab tasks\n",
    " \n",
    "probabilities_x = [0.05, 0.12, 0.01, 0.01, 0.03, 0.02, 0.05, 0.09, 0.08, 0.07, 0.07, 0.3, 0.04, 0.03, 0.02, 0.01]\n",
    "probabilities_x = np.array(probabilities_x)\n",
    "probabilities_X = probabilities_x.reshape((1,-1))\n",
    "channel_matrix = np.array(\\\n",
    "      [[0.97, 0.02, 0.01, 0., 0., 0., 0., 0., 0., 0., 0., 0., 0., 0., 0., 0.],\n",
    "       [0.02, 0.95, 0.02, 0.01, 0., 0., 0., 0., 0., 0., 0., 0., 0., 0., 0., 0.],\n",
    "       [0., 0.01, 0.98, 0.01, 0., 0., 0., 0., 0., 0., 0., 0., 0., 0., 0., 0.],\n",
    "       [0., 0.01, 0.02, 0.94, 0.02, 0.01, 0., 0., 0., 0., 0., 0., 0., 0., 0., 0.],\n",
    "       [0., 0., 0., 0.01, 0.98, 0.01, 0., 0., 0., 0., 0., 0., 0., 0., 0., 0.],\n",
    "       [0., 0., 0., 0.01, 0.01, 0.96, 0.01, 0.01, 0., 0., 0., 0., 0., 0., 0., 0.],\n",
    "       [0., 0., 0., 0., 0.01, 0.02, 0.94, 0.02, 0.01, 0., 0., 0., 0., 0., 0., 0.],\n",
    "       [0., 0., 0., 0., 0., 0., 0.02, 0.96, 0.02, 0., 0., 0., 0., 0., 0., 0.],\n",
    "       [0., 0., 0., 0., 0., 0., 0., 0.01, 0.98, 0.01, 0., 0., 0., 0., 0., 0.],\n",
    "       [0., 0., 0., 0., 0., 0., 0., 0.01, 0.01, 0.96, 0.01, 0.01, 0., 0., 0., 0.],\n",
    "       [0., 0., 0., 0., 0., 0., 0., 0., 0.01, 0.01, 0.96, 0.01, 0.01, 0., 0., 0.],\n",
    "       [0., 0., 0., 0., 0., 0., 0., 0., 0., 0.01, 0.01, 0.95, 0.02, 0.01, 0., 0.],\n",
    "       [0., 0., 0., 0., 0., 0., 0., 0., 0., 0., 0., 0.02, 0.96, 0.02, 0., 0.],\n",
    "       [0., 0., 0., 0., 0., 0., 0., 0., 0., 0., 0., 0.01, 0.02, 0.94, 0.02, 0.01],\n",
    "       [0., 0., 0., 0., 0., 0., 0., 0., 0., 0., 0., 0., 0.01, 0.02, 0.95, 0.02],\n",
    "       [0., 0., 0., 0., 0., 0., 0., 0., 0., 0., 0., 0., 0., 0.01, 0.03, 0.96]])                                                                                                                            "
   ]
  },
  {
   "cell_type": "code",
   "execution_count": 79,
   "metadata": {},
   "outputs": [
    {
     "name": "stdout",
     "output_type": "stream",
     "text": [
      "H(X): 3.375980012255752\n"
     ]
    }
   ],
   "source": [
    "#---------------------------------------------------------\n",
    "# function in order to count entropy:\n",
    "# used formula from the lection: H(X) = ∑( p_i * log2(p_i)) i from 1 to n on given probabilities_X\n",
    "# used numpy for counting this sum\n",
    "def task_1(p):\n",
    "    entropy_x = -np.sum( p * np.log2(p))\n",
    "    return entropy_x\n",
    "\n",
    "res = task_1(probabilities)\n",
    "print( 'H(X):', res)"
   ]
  },
  {
   "cell_type": "code",
   "execution_count": 99,
   "metadata": {},
   "outputs": [
    {
     "name": "stdout",
     "output_type": "stream",
     "text": [
      "H(Y): 3.4252184494094324\n"
     ]
    }
   ],
   "source": [
    "# in order to find H(Y), first we should find a matrix of marginal distributions\n",
    "# so, to find this matrix, we multiply values in the first line element by element by p (x1), in the second - by p (x2)...\n",
    "# then p(Y) - is a sum of columns of received matrix. There are also other ways to do it\n",
    "def task_2(p):\n",
    "    entropy_y = -np.sum( p * np.log2(p))\n",
    "    return entropy_y\n",
    "\n",
    "trans = probabilities_X.transpose()\n",
    " \n",
    "probabilities_XY = channel_matrix * trans\n",
    "\n",
    "#the probabilities of occurrence of symbols at the input of the receiver are determined as follows\n",
    " \n",
    "probabilities_Y = np.sum(probabilities_XY, axis = 0)\n",
    "#prob_y = probabilities_X * trans\n",
    " \n",
    "res1 = task_2(probabilities_Y)\n",
    "print('H(Y):', res1)\n",
    "#print(prob_y)\n",
    "#print('----------------')\n",
    "#print(probabilities_Y)\n",
    " "
   ]
  },
  {
   "cell_type": "code",
   "execution_count": 88,
   "metadata": {},
   "outputs": [
    {
     "name": "stdout",
     "output_type": "stream",
     "text": [
      "Conditional entropy Y|X: 0.3268079891679152\n",
      "-------------------------------------\n",
      "Conditional entropy X|Y: 0.27756955201422695\n"
     ]
    }
   ],
   "source": [
    "# as we have found an probabilities_XY matrix in the previous task\n",
    "# we will multiply the elements of the two matrices (probabilities_XY and channel_matrix) element by element\n",
    "# according to formula: ----- ∑ ∑ p(x_i, y_j)log2p(y_j|x_) i from 1 to n and j from 1 to m -----------\n",
    "const = 0.0000000000001 # chose some small value in order to avoid a situation when  we get log2(0)\n",
    "def task_3(p, ch_m):\n",
    "    cond_entropy = - np.sum(p * np.log2(ch_m + const))\n",
    "    return cond_entropy\n",
    "\n",
    "cond_yx = task_3(probabilities_XY, channel_matrix)\n",
    "print('Conditional entropy Y|X:', cond_yx)\n",
    "print('-------------------------------------')\n",
    "new_matrix = probabilities_XY / probabilities_Y\n",
    "cond_xy = task_3(probabilities_XY, new_matrix)\n",
    "print('Conditional entropy X|Y:', cond_xy)"
   ]
  },
  {
   "cell_type": "code",
   "execution_count": null,
   "metadata": {},
   "outputs": [],
   "source": []
  },
  {
   "cell_type": "code",
   "execution_count": null,
   "metadata": {},
   "outputs": [],
   "source": [
    "# in order to find the number of сharacters are transmitted per unit time we will use the next formula: k0 = 1 / t\n",
    "# where n - number of symbols in alphabet, V - my variant"
   ]
  },
  {
   "cell_type": "code",
   "execution_count": 95,
   "metadata": {},
   "outputs": [
    {
     "name": "stdout",
     "output_type": "stream",
     "text": [
      "1176.4705882352941  сharacters are transmitted per unit time\n"
     ]
    }
   ],
   "source": [
    "n = 16  \n",
    "V = 17\n",
    "\n",
    "t = 0.05 * V * 0.001\n",
    "k0 = 1 / t\n",
    "print( k0, \" сharacters are transmitted per unit time\" )"
   ]
  },
  {
   "cell_type": "code",
   "execution_count": 93,
   "metadata": {},
   "outputs": [
    {
     "name": "stdout",
     "output_type": "stream",
     "text": [
      "Information transfer rate  3645.1887767547264 b/s\n"
     ]
    }
   ],
   "source": [
    "# in order to find the speed of information transfer we will use the formula explained in the example of this lab: \n",
    "#sp = k0 * (H(Y) - H(Y|X))\n",
    "sp = k0 * (res1 - cond_yx)\n",
    "print(\"Information transfer rate \", sp, \"b/s\")"
   ]
  },
  {
   "cell_type": "code",
   "execution_count": 85,
   "metadata": {},
   "outputs": [
    {
     "name": "stdout",
     "output_type": "stream",
     "text": [
      "Communication channel bandwidth  4321.402365684806 b/s\n"
     ]
    }
   ],
   "source": [
    "# simply used forula C = k0 * (log2(n) - H(Y|X))\n",
    "C = k0 * (np.log2(n) - cond_yx)\n",
    "print(\"Communication channel bandwidth \", C, 'b/s')\n"
   ]
  },
  {
   "cell_type": "code",
   "execution_count": 96,
   "metadata": {},
   "outputs": [
    {
     "name": "stdout",
     "output_type": "stream",
     "text": [
      "We lose 555.5735815854558 during transfering  1700 symbols and we accept in average 5267.297782410579 bit of inforation\n"
     ]
    }
   ],
   "source": [
    "# delta = k *H (Y|X) - delta\n",
    "# I = k * (H(Y) - H(Y|X)) -average amount of \n",
    "k = 100 * V\n",
    "delta_I = k * cond_yx\n",
    "I = k * (res1 - cond_yx)\n",
    "print(\"We lose {} during transfering  {} symbols and we accept in average {} bit of inforation\".format(delta_I, k, I))"
   ]
  },
  {
   "cell_type": "code",
   "execution_count": null,
   "metadata": {},
   "outputs": [],
   "source": []
  }
 ],
 "metadata": {
  "kernelspec": {
   "display_name": "Python 3",
   "language": "python",
   "name": "python3"
  },
  "language_info": {
   "codemirror_mode": {
    "name": "ipython",
    "version": 3
   },
   "file_extension": ".py",
   "mimetype": "text/x-python",
   "name": "python",
   "nbconvert_exporter": "python",
   "pygments_lexer": "ipython3",
   "version": "3.7.4"
  }
 },
 "nbformat": 4,
 "nbformat_minor": 2
}
